{
 "cells": [
  {
   "cell_type": "code",
   "execution_count": 2,
   "id": "c12f0802",
   "metadata": {},
   "outputs": [],
   "source": [
    "from sklearn.datasets import make_classification\n",
    "from sklearn.model_selection import train_test_split\n",
    "from sklearn.preprocessing import StandardScaler\n",
    "import numpy\n",
    "from tqdm import tqdm\n",
    "import numpy as np\n",
    "from sklearn.metrics.pairwise import euclidean_distances\n",
    "\n",
    "\n",
    "x,y = make_classification(n_samples=10000, n_features=2, n_informative=2, n_redundant= 0, n_clusters_per_class=1, random_state=60)\n",
    "X_train, X_test, y_train, y_test = train_test_split(x,y,stratify=y,random_state=42)\n",
    "\n",
    "# del X_train,X_test"
   ]
  },
  {
   "cell_type": "code",
   "execution_count": 5,
   "id": "9f48fe09",
   "metadata": {},
   "outputs": [
    {
     "name": "stdout",
     "output_type": "stream",
     "text": [
      "(7500, 2)\n"
     ]
    }
   ],
   "source": [
    "from sklearn.metrics import accuracy_score\n",
    "import random\n",
    "# def randomly_select_60_percent_indices_in_range_from_1_to_len(x_train):\n",
    "#     return random.sample(range(0, len(x_train)), int(0.6*len(x_train)))\n",
    "\n",
    "def Randomsearchcv(x_train,y_train,classifier, param_range, folds):\n",
    "    \n",
    "    # getting 10 unique values from param_range.\n",
    "    param_list = random.sample(range(param_range),10)\n",
    "    param_list = param_list.sort()\n",
    "    \n",
    "    # getting folds and splitting train into folds assuming fold being reasonably integer.\n",
    "    fold_splits= [x_train[i:i+n] for i in range(0,len(x_train), folds)]\n",
    "    \n",
    "    # choosing train and test from fold_split\n",
    "    ideal_train_split_len  =np.round(len(fold_split)*70)\n",
    "    train_set = fold_split[:ideal_train_split_len]\n",
    "    test_set = fold_split[ideal_train_split_len:]\n",
    "    \n",
    "    # k-fold begins:\n",
    "    for param in param_list:\n",
    "        \n",
    "    \n",
    "    \n",
    "    \n",
    "    "
   ]
  },
  {
   "cell_type": "code",
   "execution_count": 30,
   "id": "36fe3c91",
   "metadata": {},
   "outputs": [
    {
     "name": "stdout",
     "output_type": "stream",
     "text": [
      "35.0\n"
     ]
    }
   ],
   "source": [
    "l = np.arange(500)\n",
    "n = 10\n",
    "\n",
    "li = [l[i:i+n] for i in range(0,len(l), n)]\n",
    "print(len(li)*0.70)"
   ]
  },
  {
   "cell_type": "code",
   "execution_count": 17,
   "id": "fa20231d",
   "metadata": {},
   "outputs": [
    {
     "name": "stdout",
     "output_type": "stream",
     "text": [
      "3\n"
     ]
    }
   ],
   "source": [
    "def test(p_range):\n",
    "    print(p_range[0])\n",
    "test((3,4))"
   ]
  },
  {
   "cell_type": "code",
   "execution_count": null,
   "id": "cb8fd9d6",
   "metadata": {},
   "outputs": [],
   "source": [
    "# it will take classifier and set of values for hyper prameter in dict type dict({hyper parmeter: [list of values]})\n",
    "# we are implementing this only for KNN, the hyper parameter should n_neighbors\n",
    "# from sklearn.metrics import accuracy_score\n",
    "# def randomly_select_60_percent_indices_in_range_from_1_to_len(x_train):\n",
    "#     return random.sample(range(0, len(x_train)), int(0.6*len(x_train)))\n",
    "\n",
    "def GridSearch(x_train,y_train,classifier, params, folds):\n",
    "    trainscores = []\n",
    "    testscores  = []    \n",
    "    for k in tqdm(params['n_neighbors']):\n",
    "        trainscores_folds = []\n",
    "        testscores_folds  = []\n",
    "        for j in range(0, folds):\n",
    "            # check this out: https://stackoverflow.com/a/9755548/4084039\n",
    "            train_indices = randomly_select_60_percent_indices_in_range_from_1_to_len(x_train)\n",
    "            test_indices  = list(set(list(range(1, len(x_train)))) - set(train_indices))\n",
    "\n",
    "            # selecting the data points based on the train_indices and test_indices\n",
    "            X_train = x_train[train_indices]\n",
    "            Y_train = y_train[train_indices]\n",
    "            X_test  = x_train[test_indices]\n",
    "            Y_test  = y_train[test_indices]\n",
    "\n",
    "            classifier.n_neighbors = k\n",
    "            classifier.fit(X_train,Y_train)\n",
    "\n",
    "            Y_predicted = classifier.predict(X_test)\n",
    "            testscores_folds.append(accuracy_score(Y_test, Y_predicted))\n",
    "\n",
    "            Y_predicted = classifier.predict(X_train)\n",
    "            trainscores_folds.append(accuracy_score(Y_train, Y_predicted))\n",
    "        trainscores.append(np.mean(np.array(trainscores_folds)))\n",
    "        testscores.append(np.mean(np.array(testscores_folds)))\n",
    "    return trainscores,testscores"
   ]
  }
 ],
 "metadata": {
  "kernelspec": {
   "display_name": "Python 3",
   "language": "python",
   "name": "python3"
  },
  "language_info": {
   "codemirror_mode": {
    "name": "ipython",
    "version": 3
   },
   "file_extension": ".py",
   "mimetype": "text/x-python",
   "name": "python",
   "nbconvert_exporter": "python",
   "pygments_lexer": "ipython3",
   "version": "3.9.4"
  }
 },
 "nbformat": 4,
 "nbformat_minor": 5
}
